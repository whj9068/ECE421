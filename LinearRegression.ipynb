{
  "nbformat": 4,
  "nbformat_minor": 0,
  "metadata": {
    "colab": {
      "provenance": []
    },
    "kernelspec": {
      "name": "python3",
      "display_name": "Python 3"
    },
    "language_info": {
      "name": "python"
    }
  },
  "cells": [
    {
      "cell_type": "code",
      "execution_count": null,
      "metadata": {
        "id": "_MJiBojWbc3T",
        "outputId": "1983a164-e67f-4288-a670-2fed72d7f1be",
        "colab": {
          "base_uri": "https://localhost:8080/"
        }
      },
      "outputs": [
        {
          "metadata": {
            "tags": null
          },
          "name": "stdout",
          "output_type": "stream",
          "text": [
            "------------------subtestFn----------------------\n",
            "weights:  [-1.55431223e-14  2.00000000e-01  4.00000000e-01]\n",
            "NO ERROR\n",
            "------------------testFn_Part2-------------------\n",
            "Mean squared error from Part 2a is  2380.036570609207\n",
            "Mean squared error from Part 2b is  2380.036570609199\n"
          ]
        }
      ],
      "source": [
        "import numpy as np\n",
        "import math\n",
        "from sklearn.model_selection import train_test_split\n",
        "from sklearn.datasets import load_diabetes\n",
        "from sklearn import linear_model\n",
        "from sklearn.metrics import mean_squared_error\n",
        "from sklearn.linear_model import LinearRegression\n",
        "#This function calculate w to minimize Ein(w) with vector calculus, optimal w = ((transpose(X)*X)inverse)*transpose(X)*Y\n",
        "def fit_LinRegr(X_train, y_train):\n",
        "  X_i = np.hstack((np.ones((len(X_train),1),dtype=np.int16),X_train))\n",
        "  w = np.dot(np.dot(np.linalg.pinv(np.dot(np.transpose(X_i),X_i)),np.transpose(X_i)),y_train)\n",
        "  return w\n",
        "\n",
        "#This function calculate the Ein with given w\n",
        "def mse(X_train,y_train,w):\n",
        "    X_i = np.hstack((np.ones((len(X_train),1)),X_train))\n",
        "    error = 0\n",
        "    error += np.dot(np.transpose((y_train - np.dot(X_i,w))),y_train - np.dot(X_i,w))\n",
        "    error = error/(len(X_train))\n",
        "    return error\n",
        "\n",
        "#This function calculate the predict value of output with given w\n",
        "def pred(X_train,w):\n",
        "    value = np.dot(X_train,w)\n",
        "    return value\n",
        "\n",
        "#This function use scikit learn library to train the linear regression model\n",
        "def test_SciKit(X_train, X_test, Y_train, Y_test):\n",
        "  clf = LinearRegression()\n",
        "  clf.fit(X_train,Y_train)\n",
        "  y_pred = clf.predict(X_test)\n",
        "  mse = mean_squared_error(Y_test, y_pred)\n",
        "  return mse\n",
        "\n",
        "def subtestFn():\n",
        "    # This function tests if your solution is robust against singular matrix\n",
        "\n",
        "    # X_train has two perfectly correlated features\n",
        "    X_train = np.asarray([[1, 2], [2, 4], [3, 6], [4, 8]])\n",
        "    y_train = np.asarray([1,2,3,4])\n",
        "\n",
        "    try:\n",
        "      w=fit_LinRegr(X_train, y_train)\n",
        "      print (\"weights: \", w)\n",
        "      print (\"NO ERROR\")\n",
        "    except:\n",
        "      print (\"ERROR\")\n",
        "\n",
        "def testFn_Part2():\n",
        "    X_train, y_train = load_diabetes(return_X_y=True)\n",
        "    X_train, X_test, y_train, y_test = train_test_split(X_train,y_train,test_size=0.2)\n",
        "\n",
        "    w=fit_LinRegr(X_train, y_train)\n",
        "    #Testing Part 2a\n",
        "    e=mse(X_test,y_test,w)\n",
        "    #Testing Part 2b\n",
        "    scikit=test_SciKit(X_train, X_test, y_train, y_test)\n",
        "    print(\"Mean squared error from Part 2a is \", e)\n",
        "    print(\"Mean squared error from Part 2b is \", scikit)\n",
        "\n",
        "print ('------------------subtestFn----------------------')\n",
        "subtestFn()\n",
        "\n",
        "print ('------------------testFn_Part2-------------------')\n",
        "testFn_Part2()"
      ]
    }
  ]
}